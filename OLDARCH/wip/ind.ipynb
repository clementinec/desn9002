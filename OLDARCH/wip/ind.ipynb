{
 "cells": [
  {
   "cell_type": "markdown",
   "id": "c38c917c",
   "metadata": {
    "slideshow": {
     "slide_type": "slide"
    }
   },
   "source": [
    "### DESN9002 Course Page\n",
    "\n",
    "Welcome to DESN9002 slide repo. Use the following links to access the corresponding contents.\n",
    "\n",
    "\n",
    "[Lecture 1: LLM and Programming Primer](https://clementinec.github.io/desn9002/L1)\n",
    "\n",
    "[Lecture 2: Sustainability Intro: LCA & Circular Economy](https://clementinec.github.io/desn9002/L2)\n",
    "\n",
    "[Lecture 3: Sustainability Continued: ESG & Carbon Tax/Credit](https://clementinec.github.io/desn9002/L3)"
   ]
  },
  {
   "cell_type": "markdown",
   "id": "c3880a96",
   "metadata": {
    "slideshow": {
     "slide_type": "subslide"
    }
   },
   "source": [
    "### Hackathon Overview (WHOLE WEEK)\n",
    "\n",
    "- DAY 1: No guest lecture, 2-6PM @ Library 3rd floor\n",
    "- DAY 2: Urban Design @ 9AM (Zoom), 2-6PM @ Library 3rd floor, reflective essay due at 11:59PM;\n",
    "- DAY 3: Finance lecture @ 9AM (Zoom), 2-6PM @ Library 3rd floor, reflective essay due at 11:59PM;\n",
    "- DAY 4: Social Science @ 9AM , 2-6PM @ Library 3rd floor, reflective essay due at 11:59PM;\n",
    "- DAY 5: Carbon Policy @ 9AM , 2-6PM @ Library 3rd floor, reflective essay & group presentation due at 11:59PM;\n",
    "\n",
    "SAT & SUN: Final Presentation, Group score submission for final presentation (PDF of PPT/github link submission)."
   ]
  },
  {
   "cell_type": "markdown",
   "id": "b363e7b7",
   "metadata": {
    "slideshow": {
     "slide_type": "subslide"
    }
   },
   "source": [
    "### Hackathon Overview (DAY ONE)\n",
    "\n",
    "\n",
    "- General introduction of the hackathon theme and expectations (Hongshan, 15min)\n",
    "- Ice-breaking ~ 1.5 hr\n",
    "    - Printing/Handing out labels\n",
    "    - Mingling of students (30s each, elevator pitch), particularly those wanting to be leads\n",
    "    - Forming preliminary groups based on research interests (< 20 teams)\n",
    "    - Self-introduction of expertise from TAs (15min)\n",
    "\n",
    "- Group discussion on what the research topic will be + research time (1hr)\n",
    "- Group initial proposal on their topic (3min each) approx. 1hr\n",
    "- Wrap-up: Stand-up meeting btw groups and teaching team.\n"
   ]
  },
  {
   "cell_type": "markdown",
   "id": "9a97d165",
   "metadata": {
    "slideshow": {
     "slide_type": "slide"
    }
   },
   "source": [
    "### General introduction of the hackathon theme and expectations \n",
    "\n",
    "**Leveraging LLMs to detect early signs of humanitarian crisis from multi-platform (social) media information**\n"
   ]
  },
  {
   "cell_type": "markdown",
   "id": "933c9376",
   "metadata": {
    "slideshow": {
     "slide_type": "fragment"
    }
   },
   "source": [
    "- LLMs are not a must\n",
    "- Leverage their generalizability\n",
    "- Full-blown solution is not needed: your work will be evaluated by both the teaching team and your peers.\n",
    "\n",
    "**Convince us that you have the best work.**"
   ]
  },
  {
   "cell_type": "markdown",
   "id": "7072ebe0",
   "metadata": {
    "slideshow": {
     "slide_type": "subslide"
    }
   },
   "source": [
    "## Onto the poll:\n",
    "\n",
    "**Use your UID as your 'screen name' when responding**\n",
    "\n",
    "**You have 1min**"
   ]
  },
  {
   "cell_type": "code",
   "execution_count": 6,
   "id": "8b849c9a",
   "metadata": {
    "collapsed": true,
    "slideshow": {
     "slide_type": "skip"
    }
   },
   "outputs": [
    {
     "data": {
      "image/jpeg": "[encoded data removed]",
      "image/png": "[encoded data removed]",
      "text/plain": [
       "<qrcode.image.pil.PilImage at 0x104b71e40>"
      ]
     },
     "execution_count": 6,
     "metadata": {},
     "output_type": "execute_result"
    }
   ],
   "source": [
    "import qrcode\n",
    "qrcode.make('https://PollEv.com/hazelg861')"
   ]
  },
  {
   "cell_type": "code",
   "execution_count": 2,
   "id": "2aaa2e95",
   "metadata": {
    "collapsed": true,
    "slideshow": {
     "slide_type": "skip"
    }
   },
   "outputs": [
    {
     "data": {
      "text/html": [
       "<iframe src=\"https://pollev-embeds.com/free_text_polls/HdryClmHqf9SDQUbQNjB8/respond\" width=\"800px\" height=\"600px\"></iframe>\n"
      ],
      "text/plain": [
       "<IPython.core.display.HTML object>"
      ]
     },
     "metadata": {},
     "output_type": "display_data"
    }
   ],
   "source": [
    "%%HTML\n",
    "<iframe src=\"https://pollev-embeds.com/free_text_polls/HdryClmHqf9SDQUbQNjB8/respond\" width=\"800px\" height=\"600px\"></iframe>"
   ]
  }
 ],
 "metadata": {
  "celltoolbar": "Slideshow",
  "kernelspec": {
   "display_name": "Python 3 (ipykernel)",
   "language": "python",
   "name": "python3"
  },
  "language_info": {
   "codemirror_mode": {
    "name": "ipython",
    "version": 3
   },
   "file_extension": ".py",
   "mimetype": "text/x-python",
   "name": "python",
   "nbconvert_exporter": "python",
   "pygments_lexer": "ipython3",
   "version": "3.10.12"
  }
 },
 "nbformat": 4,
 "nbformat_minor": 5
}
