{
 "cells": [
  {
   "cell_type": "markdown",
   "id": "00e5621f",
   "metadata": {
    "slideshow": {
     "slide_type": "slide"
    }
   },
   "source": [
    "# What is a hackathon"
   ]
  },
  {
   "cell_type": "markdown",
   "id": "3486fda2",
   "metadata": {
    "slideshow": {
     "slide_type": "fragment"
    }
   },
   "source": [
    "- a blend of the words \"hack\" (in the sense of exploratory programming, not computer security breach) and \"marathon.\" \n",
    "- an event, typically lasting several days, where people come together to solve problems. "
   ]
  },
  {
   "cell_type": "markdown",
   "id": "6c28419f",
   "metadata": {
    "slideshow": {
     "slide_type": "subslide"
    }
   },
   "source": [
    "### **Core Components of a Hackathon:**\n",
    "\n",
    "1. **Theme/Challenge**: In our case \"leveraging LLMs to detect early signs of humanitarian crises from text corpus\"\n",
    "\n",
    "2. **Collaboration**: Participants typically form teams, encouraging collaboration and pooling of diverse skill sets.\n",
    "\n",
    "3. **Time Limit**: A handful of days.\n",
    "\n",
    "4. **Innovation**: Often to start from scratch and end with a working prototype or solution.\n",
    "\n",
    "5. **Presentations**: At the end, teams present their solutions to judges or peers, showcasing their work.\n",
    "\n",
    "6. **Prizes and Recognition**: Learning, collaboration, and the satisfaction of building something new."
   ]
  },
  {
   "cell_type": "markdown",
   "id": "a47d6445",
   "metadata": {
    "slideshow": {
     "slide_type": "subslide"
    }
   },
   "source": [
    "### **What Hackathons Are NOT**:\n",
    "\n",
    "1. An event to \"hack\" into systems in an illegal way. The term \"hack\" here is about building and creating, not breaking into systems.\n",
    "\n",
    "2. Always about coding. While coding is a big part, brainstorming, designing, and planning are equally important."
   ]
  },
  {
   "cell_type": "markdown",
   "id": "a5538782",
   "metadata": {
    "slideshow": {
     "slide_type": "subslide"
    }
   },
   "source": [
    "### **Why do other people Participate in a Hackathon?**\n",
    "\n",
    "1. **Learning**: It's a fantastic opportunity to learn new technologies, tools, or methods.\n",
    "\n",
    "2. **Networking**: Meet people with similar interests or complementary skills.\n",
    "\n",
    "3. **Building**: Create something new and innovative, even if it's a prototype.\n",
    "\n",
    "4. **Problem-Solving**: Real-world issues are presented, and you get to brainstorm solutions.\n",
    "\n",
    "5. **Fun**: Despite the intensity, it's a lot of fun to work on a project in a limited timeframe and see where you get!"
   ]
  },
  {
   "cell_type": "markdown",
   "id": "2ca1acc0",
   "metadata": {
    "slideshow": {
     "slide_type": "slide"
    }
   },
   "source": [
    "# Define and solve your own problem statement through research and collaboration."
   ]
  },
  {
   "cell_type": "markdown",
   "id": "7ad48009",
   "metadata": {
    "slideshow": {
     "slide_type": "slide"
    }
   },
   "source": [
    "### 1. **Clarify the Objective - Early Signs of Humanitarian Crisis**:\n"
   ]
  },
  {
   "cell_type": "markdown",
   "id": "9359f2f1",
   "metadata": {
    "slideshow": {
     "slide_type": "fragment"
    }
   },
   "source": [
    "1. **Natural Disasters**:\n",
    "   - **Signs**: Increased chatter or breaking news about severe weather events like hurricanes, tsunamis, earthquakes, or floods. This could include first-person accounts of events unfolding, meteorological reports, or videos/images showing damage.\n",
    "   - **Example**: Tweets from affected areas about tremors might indicate an earthquake before official news outlets pick it up.\n"
   ]
  },
  {
   "cell_type": "markdown",
   "id": "412ee22e",
   "metadata": {
    "slideshow": {
     "slide_type": "subslide"
    }
   },
   "source": [
    "2. **Conflict and Civil Unrest**:\n",
    "   - **Signs**: Discussions or news about escalating tensions in a region, protests turning violent, or the movement of military troops. Stories or firsthand accounts of violence, displacements, or people fleeing their homes.\n",
    "   - **Example**: A surge in posts from a city's residents about sudden protests, or images/videos of marches and confrontations with authorities.\n"
   ]
  },
  {
   "cell_type": "markdown",
   "id": "5f3ced0a",
   "metadata": {
    "slideshow": {
     "slide_type": "subslide"
    }
   },
   "source": [
    "3. **Epidemics/Pandemics**:\n",
    "   - **Signs**: An uptick in mentions about a particular disease, rising numbers of sick individuals, or announcements from health organizations. Discussions about symptoms, hospital overcrowding, or unavailability of medicines.\n",
    "   - **Example**: A cluster of posts from a region discussing a mysterious illness or flu-like symptoms before official health advisories are released."
   ]
  },
  {
   "cell_type": "markdown",
   "id": "56f21af1",
   "metadata": {
    "slideshow": {
     "slide_type": "fragment"
    }
   },
   "source": [
    "4. **Food and Water Crises**:\n",
    "   - **Signs**: Stories about droughts affecting crop yields, rising prices of essential food items, or contamination of water sources. Personal accounts of hunger, malnutrition, or scarcity of resources.\n",
    "   - **Example**: Multiple articles or blog posts about failed monsoons and its impact on the year's crop, leading to potential food shortages.\n",
    "\n",
    "5. **Refugee Movements and Displacements**:\n",
    "   - **Signs**: Discussions about large groups of people moving away from conflict zones, overcrowded refugee camps, or borders being closed to refugees. Personal stories of leaving homes, struggles in refugee camps, or seeking asylum.\n",
    "   - **Example**: Posts on community forums from individuals seeking information on safe routes, or pictures on social platforms showcasing the influx of refugees in certain towns or camps.\n"
   ]
  },
  {
   "cell_type": "markdown",
   "id": "2abb45b9",
   "metadata": {
    "slideshow": {
     "slide_type": "subslide"
    }
   },
   "source": [
    "Features that you could consider engineering includes:\n",
    "\n",
    "    - rapid increase in frequency (i.e. delta of posts relevant to topic wihtin the last hour) \n",
    "    - intensity of related posts (i.e. neg/pos score for sentiment), or \n",
    "    - the viral nature of certain stories (# of retweets/sharing), can be key indicators. \n",
    "    \n",
    "**In the meantime,**\n",
    "_Leveraging LLMs can help in identifying, categorizing, and escalating these signs for timely humanitarian responses._"
   ]
  },
  {
   "cell_type": "markdown",
   "id": "2cc0d9b4",
   "metadata": {
    "slideshow": {
     "slide_type": "subslide"
    }
   },
   "source": [
    "### 2. **Let's break down the steps**:\n",
    "For each step you provided, give a more detailed breakdown:\n",
    "\n",
    "- **Step 0: Scoping**: \n",
    "  - Identify the humanitarian signs/topics of interest: natural disasters, war zones, refugee movements, etc.\n",
    "  - Research where these topics are most frequently discussed: Twitter, news article feeds, Reddit, etc.\n",
    "\n",
    "- **Step 1: Download/Preproceess Dataset**:\n",
    "  - What a \"good\" dataset might look like: size, quality, sources.\n",
    "      - Structured is king, but unstructured is usually what you would get <- LLM to the rescue.\n",
    "  - Use API examples, RSS feed parsing, etc. that we're providing.\n",
    "  \n",
    "- **Step 2: Analyze Dataset**:\n",
    "  - Easy analysis: word occurence/frequencies, sentiment analysis, etc. (_feature generation_)\n",
    "  - Exploratory data analysis (EDA) and Initial Data Analytics (IDA) to be performed\n",
    "  - Guide them on how to preprocess data for LLMs: \n",
    "      - feature generation\n",
    "      - tokenization, handling of different languages, etc."
   ]
  },
  {
   "cell_type": "markdown",
   "id": "cfa7e993",
   "metadata": {
    "slideshow": {
     "slide_type": "subslide"
    }
   },
   "source": [
    "- **Step 3: Fit Machine Learning Models**:\n",
    "  - From linear regression to gradient boosting regression/classification: pick your poison.\n",
    "  - Fit one first, and go to parks with multiple via AutoML solutions (e.g. PyCaret);\n",
    "      - Read into evaluation metrics and determine which you should select to determine the best model.\n",
    "\n",
    "\n",
    "- **Step 4: Final Presentation**:\n",
    "  - Present in whatever format that fits your solution best: code, video, presentation, report, etc.\n",
    "  - Discuss how you traversed through the research passage from:\n",
    "      - explain how you made the scoping decision with existing literature;\n",
    "      - describe how you downloaded/processed what dataset and why they are relevant; \n",
    "      - what analytic techniques you used against the preprocessed data;\n",
    "      - how did you arrive at the format of your final presentation;\n",
    "      - how did each major contribute to the overall delivery of the final project;\n",
    "      \n",
    "        **Use this same criteria to evalute peer projects.**"
   ]
  },
  {
   "cell_type": "markdown",
   "id": "906cb121",
   "metadata": {
    "slideshow": {
     "slide_type": "slide"
    }
   },
   "source": [
    "### 3. **Simplified Examples**:\n",
    "Worked-out example of scraping a subreddit and targetting a particular humanitarian issue (bullying) that was mentioned across the scraped information through simple word stats.\n"
   ]
  },
  {
   "cell_type": "markdown",
   "id": "8a155571",
   "metadata": {
    "slideshow": {
     "slide_type": "slide"
    }
   },
   "source": [
    "### 4. **Daily Check-ins**:\n",
    "- Milestones:\n",
    "    0. D1 EOD: Group formed;\n",
    "    1. D2 EOD: Data Download;\n",
    "    2. D3 EOD: Preprocessing completed, stats/feature extraction completed;\n",
    "    3. D4 EOD: Models fitted and initial results;\n",
    "    4. D5 EOD: Final deliverable consolidation and potential iterations;\n",
    "- EOD Check-ins on current status: major blockers reviewed with TAs as an summary."
   ]
  },
  {
   "cell_type": "markdown",
   "id": "53509db7",
   "metadata": {
    "slideshow": {
     "slide_type": "slide"
    }
   },
   "source": [
    "### 5. **Resources**:\n",
    "- Tutorial on web-scraping\n",
    "- Worked out example of leveraging one subreddit for simplified humanitarian crisis detection\n",
    "- OpenAI API (Available upon request)\n",
    "\n",
    "### 6. **Role Dynamics**:\n",
    "Are you the researcher, data collector, analyst, presenter, or the 'Project Manager', 'Software developer' etc.\n",
    "\n",
    "### 7. **Communicate, communicate, communicate.**:\n",
    "- leverage slack to reach out to us if you have any questions\n",
    "- don't wait until it's a boiling question\n",
    "\n",
    "### 8. **Learn from your peers**:\n",
    "- Talk to your team mates\n",
    "- You will learn more about other group's scope and prospects today, talk to them where it's applicable.\n",
    "- You will have a peer feedback session Wednesday for mid-week review.\n"
   ]
  },
  {
   "cell_type": "markdown",
   "id": "b7775ec6",
   "metadata": {
    "slideshow": {
     "slide_type": "subslide"
    }
   },
   "source": [
    "- Hackathons can be intense and sometimes frustrating. \n",
    "- It's a learning process, and the journey is as important as the final product. \n",
    "- In the end it's about recognize effort and celebrate small wins.\n",
    "- This is **open-ended research**."
   ]
  }
 ],
 "metadata": {
  "celltoolbar": "Slideshow",
  "kernelspec": {
   "display_name": "Python 3 (ipykernel)",
   "language": "python",
   "name": "python3"
  },
  "language_info": {
   "codemirror_mode": {
    "name": "ipython",
    "version": 3
   },
   "file_extension": ".py",
   "mimetype": "text/x-python",
   "name": "python",
   "nbconvert_exporter": "python",
   "pygments_lexer": "ipython3",
   "version": "3.10.12"
  }
 },
 "nbformat": 4,
 "nbformat_minor": 5
}
