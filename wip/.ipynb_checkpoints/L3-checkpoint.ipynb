{
 "cells": [
  {
   "cell_type": "markdown",
   "id": "5078033c",
   "metadata": {
    "slideshow": {
     "slide_type": "slide"
    }
   },
   "source": [
    "Recap from last week:\n",
    "- LCA & Circular Economy: Tool vs. Concept\n",
    "- Holistic approach and Systmatic Thinking\n",
    "- System/Technological Failures and examples\n",
    "- Blockchain, how it differs from cryptocurrency and how it might relate to sustainability."
   ]
  },
  {
   "cell_type": "markdown",
   "id": "150655c0",
   "metadata": {
    "slideshow": {
     "slide_type": "subslide"
    }
   },
   "source": [
    "\n",
    "### Carbon Offsets:\n",
    "Reduction in GHG emissions that's used to compensate emissions made elsewhere: an action/activity that 'offsets' the carbon you've emitted.\n",
    "\n",
    "#### How Do They Work?\n",
    "    1. Calculate your emission for an activity\n",
    "    2. Purchase the equivalent amount of carbon credits from an offset projects\n",
    "#### Examples of Carbon Offset Projects:\n",
    "    1. Renewable Energy: e.g. wind farms, solar power installations, biomass energy projects\n",
    "    2. Reforestation & Afforestation: aka Tree-planting\n",
    "    3. Methane capture: from landfills or agricultural ops\n",
    "    4. Energy Efficiency\n",
    "    5. Carbon Capture and Storage (CCS): Technologies that traps captured CO2 emissions underground."
   ]
  },
  {
   "cell_type": "markdown",
   "id": "b948e781",
   "metadata": {
    "slideshow": {
     "slide_type": "slide"
    }
   },
   "source": [
    "## Sustainability continued\n",
    "Some more concepts that are better to be familiarized when working within the scope of sustainability."
   ]
  },
  {
   "cell_type": "markdown",
   "id": "9043d54c",
   "metadata": {
    "slideshow": {
     "slide_type": "subslide"
    }
   },
   "source": [
    "### Environmental, Social, and Governance (ESG) Investing\n",
    "\n",
    "1. **Basics**\n",
    "    - Definition: threemain factors used to measure the sustainability and societal impact of an investment in a comapny or business \n",
    "    - **Environmental**: w/ environment: energy use, waste, pollution, natural resource conservation, animal treatment\n",
    "    - **Social**: Relationship w/ emoloyees, suppliers, customers and communities where it operates\n",
    "    - **Governance**: Leadership, executive pay, audits, internal controls, shareholder rights and potential COI.\n",
    "2. **Current Trends**:\n",
    "    - Increased Popularity\n",
    "    - Integration with tranditional financial analysis to assess company's long-term resilience"
   ]
  },
  {
   "cell_type": "markdown",
   "id": "b8776387",
   "metadata": {
    "slideshow": {
     "slide_type": "subslide"
    }
   },
   "source": [
    "### Environmental, Social, and Governance (ESG) Investing\n",
    "\n",
    "3. **Criticism and Concerns**:\n",
    "    - Greenwashing: exaggeration or false claims on being environmental friendly\n",
    "    - Ambiguity in standards: no universal ESG metrics\n",
    "    - Short-term vs. Long-term sustainability commits\n",
    "    - False Promises: Authenticity of ESG claims and respnosibility of practices\n",
    "\n",
    "But what else do ESG-pledged companies do beside good optics that attracts investors?"
   ]
  },
  {
   "cell_type": "markdown",
   "id": "50fadf89",
   "metadata": {
    "slideshow": {
     "slide_type": "subslide"
    }
   },
   "source": [
    "### Environmental, Social, and Governance (ESG) Investing\n",
    "\n",
    "4.**Reasons Investors chooose ESG**:\n",
    "   - Tangible Benefits:\n",
    "        - Risk management\n",
    "        - Operational Efficiency\n",
    "        - Access to Capital\n",
    "        - Regulatory Compliance\n",
    "        - Reputation and Brand Value\n",
    "        \n",
    "   - Long-term Value Creation\n",
    "        - Stakeholder expectation\n",
    "        - Innovation\n",
    "        - Talent Attraction and Retention\n",
    "        - Long-term returns\n",
    "        - Long-term sustainability: operations remain viable and resilient in a changing world.\n",
    "        \n",
    "5.**Reasons YOU might want to know more about ESG**:\n",
    "    \n",
    "   - Remains a hot topic for financial concerns;\n",
    "   - Has a lot of outstanding questions that can be resolved w/ technology\n",
    "       - **ESG taxonomy** mapping w/ NLP: EU Taxonomy has been proposed, but challenging to implement.\n",
    "       - Definition of ESG metrics\n",
    "   - Emerging themes and innovations in finance heavily revolves around ESG (prior to GenAI at least):\n",
    "       - Climate finance\n",
    "       - Circular Economy\n",
    "       - Supply Chain\n",
    "       - Global Initiatives like SDGs"
   ]
  },
  {
   "cell_type": "markdown",
   "id": "d64e698e",
   "metadata": {
    "slideshow": {
     "slide_type": "slide"
    }
   },
   "source": [
    "### ESG is just a way of thinking\n",
    "How organizations interact with the environment, society and how organizations interact with ESG structures."
   ]
  },
  {
   "cell_type": "markdown",
   "id": "fcd37ef8",
   "metadata": {
    "slideshow": {
     "slide_type": "slide"
    }
   },
   "source": [
    "### What are SDGs?\n",
    "UN Sustainable Development Goals, a set of 17 global goals that address global challenges, including those related to poverty, inequality, climate change and environmental degradation.\n",
    "Of course! Here are the 17 United Nations Sustainable Development Goals (SDGs) in a concise bullet-point format:\n",
    "\n",
    "1. **No Poverty**: End poverty in all its forms everywhere.\n",
    "2. **Zero Hunger**: Eliminate hunger and ensure access to safe, nutritious food for all.\n",
    "3. **Good Health and Well-being**: Ensure healthy lives and promote well-being for everyone at all ages.\n",
    "4. **Quality Education**: Provide inclusive and equitable quality education and promote lifelong learning opportunities for all.\n",
    "5. **Gender Equality**: Achieve gender equality and empower all women and girls.\n",
    "6. **Clean Water and Sanitation**: Ensure availability of clean water and sanitation for all.\n",
    "7. **Affordable and Clean Energy**: Ensure access to affordable, reliable, sustainable, and modern energy for all.\n",
    "8. **Decent Work and Economic Growth**: Promote inclusive and sustainable economic growth and decent work for all.\n"
   ]
  },
  {
   "cell_type": "markdown",
   "id": "bb36b4ed",
   "metadata": {
    "slideshow": {
     "slide_type": "subslide"
    }
   },
   "source": [
    "### What are SDGs?\n",
    "UN Sustainable Development Goals, a set of 17 global goals that address global challenges, including those related to poverty, inequality, climate change and environmental degradation.\n",
    "Of course! Here are the 17 United Nations Sustainable Development Goals (SDGs) in a concise bullet-point format:\n",
    "\n",
    "9. **Industry, Innovation, and Infrastructure**: Develop quality, reliable, and resilient infrastructure, including regional and transborder infrastructure.\n",
    "10. **Reduced Inequalities**: Reduce inequalities within and among countries.\n",
    "11. **Sustainable Cities and Communities**: Make cities and human settlements inclusive, safe, resilient, and sustainable.\n",
    "12. **Responsible Consumption and Production**: Ensure sustainable consumption and production patterns.\n",
    "13. **Climate Action**: Take urgent action to combat climate change and its impacts.\n",
    "14. **Life Below Water**: Conserve and sustainably use oceans, seas, and marine resources.\n",
    "15. **Life on Land**: Protect, restore, and sustainably manage terrestrial ecosystems, halt biodiversity loss.\n",
    "16. **Peace, Justice, and Strong Institutions**: Promote peaceful societies, provide access to justice for all, and build effective, accountable institutions.\n",
    "17. **Partnerships for the Goals**: Strengthen global partnerships to support and achieve the ambitious targets of the 2030 Agenda."
   ]
  },
  {
   "cell_type": "markdown",
   "id": "6f96b351",
   "metadata": {
    "slideshow": {
     "slide_type": "subslide"
    }
   },
   "source": [
    "### Carbon Taxes:\n",
    "A **carbon tax** is a fee imposed on the burning of carbon-based fuels (coal, oil, gas). It's a way to encourage emitters to reduce their greenhouse gas emissions.\n",
    "\n",
    "#### Key Features:\n",
    "1. **Pricing Carbon**: Puts a price on each tonne of greenhouse gas emitted\n",
    "2. **Revenue Generation**: Raises revenue for environmental initiatives, clean energy projects, or public.\n",
    "\n",
    "#### Examples:\n",
    "- **Canada**: A federal carbon pricing plan: adapt to the federal system or develop province-own upon.\n",
    "- **European Union**: Not a tax, EU Emissions Trading System (EU ETS) operates by capping emissions and allowing trading of emission allowances."
   ]
  },
  {
   "cell_type": "markdown",
   "id": "8302662a",
   "metadata": {
    "slideshow": {
     "slide_type": "subslide"
    }
   },
   "source": [
    "### Carbon Credits:\n",
    "**Carbon credits** are _permits_ that allow a country or organization to produce a certain amount of emissions and that can be _traded_ if the full allowance is not used.\n",
    "\n",
    "#### Key Features:\n",
    "1. **Cap-and-Trade**: Often part of a cap-and-trade system, where a limit is placed on emissions, and companies can buy or sell allowances.\n",
    "2. **Flexibility**: Allows companies with higher emissions to purchase credits from those with lower emissions.\n",
    "\n",
    "#### Examples:\n",
    "- **California’s Cap-and-Trade Program**: A legal framework that caps emissions and allows trading of emission allowances."
   ]
  },
  {
   "cell_type": "markdown",
   "id": "d642a930",
   "metadata": {
    "slideshow": {
     "slide_type": "subslide"
    }
   },
   "source": [
    "### Carbon Tax vs. Carbon Credit\n",
    "\n",
    "Taxed by carbon emitted vs. fixed-sum game where allowances can be traded amongst players."
   ]
  },
  {
   "cell_type": "markdown",
   "id": "fd064b56",
   "metadata": {
    "slideshow": {
     "slide_type": "subslide"
    }
   },
   "source": [
    "\n",
    "### Carbon Tax:\n",
    "1. **Revenue Use**: Returning the revenue directly to citizens as a dividend or rebate?\n",
    "2. **Tax Rate Adjustments**: On economic conditions and emission reduction goals\n",
    "3. **Competitiveness Concerns**: \"border tax adjustments\" for imported goods from countries without similar carbon pricing.\n",
    "\n",
    "### Carbon Credits (Cap-and-Trade):\n",
    "1. **Initial Allocation**: How allowances are initially distributed can be historical or auctioned off.\n",
    "2. **Offset Projects**: Some cap-and-trade systems allow for **\"offsets\"** where companies can finance emission-reducing projects elsewhere (like reforestation) in lieu of purchasing credits.\n",
    "3. **Price Volatility**: The price of carbon credits can be volatile. Some systems introduce \"price floors\" and \"price ceilings\" to provide stability."
   ]
  },
  {
   "cell_type": "markdown",
   "id": "7968fc44",
   "metadata": {
    "slideshow": {
     "slide_type": "subslide"
    }
   },
   "source": [
    "\n",
    "### Carbon Offsets:\n",
    "Reduction in GHG emissions that's used to compensate emissions made elsewhere: an action/activity that 'offsets' the carbon you've emitted.\n",
    "\n",
    "#### How Do They Work?\n",
    "    1. Calculate your emission for an activity\n",
    "    2. Purchase the equivalent amount of carbon credits from an offset projects\n",
    "#### Examples of Carbon Offset Projects:\n",
    "    1. Renewable Energy: e.g. wind farms, solar power installations, biomass energy projects\n",
    "    2. Reforestation & Afforestation: aka Tree-planting\n",
    "    3. Methane capture: from landfills or agricultural ops\n",
    "    4. Energy Efficiency\n",
    "    5. Carbon Capture and Storage (CCS): Technologies that traps captured CO2 emissions underground."
   ]
  },
  {
   "cell_type": "markdown",
   "id": "3004a8db",
   "metadata": {
    "slideshow": {
     "slide_type": "subslide"
    }
   },
   "source": [
    "\n",
    "### Carbon Offsets:\n",
    "Reduction in GHG emissions that's used to compensate emissions made elsewhere: an action/activity that 'offsets' the carbon you've emitted.\n",
    "\n",
    "#### Controversies\n",
    "    - Not reduction\n",
    "    - Validity of projects\n",
    "    - Double Counting\n",
    "    - Reversibility of certain efforts: e.g. Tree-planting"
   ]
  },
  {
   "cell_type": "markdown",
   "id": "e716446c",
   "metadata": {
    "slideshow": {
     "slide_type": "subslide"
    }
   },
   "source": [
    "### Legal Frameworks:\n",
    "Legal frameworks around these mechanisms are often complex and vary greatly between different countries and regions.\n",
    "\n",
    "#### Key Components:\n",
    "1. **Setting Targets**: Legal documents outline specific emission reduction targets.\n",
    "2. **Monitoring & Reporting**: Laws require regular monitoring and reporting of emissions.\n",
    "3. **Verification**: Third-party entities verify reported emissions data.\n",
    "4. **Enforcement**: Penalties for non-compliance.\n",
    "\n",
    "#### International Agreements:\n",
    "- **Paris Agreement**: Not a law, but a global agreement that sets out commitments for countries to mitigate climate change. Each country submits a nationally determined contribution (NDC) outlining their targets."
   ]
  },
  {
   "cell_type": "markdown",
   "id": "60e77126",
   "metadata": {
    "slideshow": {
     "slide_type": "subslide"
    }
   },
   "source": [
    "### Challenges and Critiques:\n",
    "1. **Effectiveness**: The effectiveness of carbon taxes and credits can be influenced by the price of carbon and the cap on emissions.\n",
    "2. **Equity**: Concerns about the distributive impacts of carbon pricing, especially on low-income households or communities.\n",
    "3. **Implementation**: Differences in regional and national policies can lead to complexities in implementation.\n",
    "\n",
    "#### Future Trends:\n",
    "1. **Border Carbon Adjustments**: Taxes on the carbon content of imports to prevent businesses from moving to places with less stringent emissions regulations.\n",
    "2. **Increasing Prices**: There’s a global push to increase the price of carbon to make these mechanisms more effective.\n"
   ]
  }
 ],
 "metadata": {
  "celltoolbar": "Slideshow",
  "kernelspec": {
   "display_name": "Python 3 (ipykernel)",
   "language": "python",
   "name": "python3"
  },
  "language_info": {
   "codemirror_mode": {
    "name": "ipython",
    "version": 3
   },
   "file_extension": ".py",
   "mimetype": "text/x-python",
   "name": "python",
   "nbconvert_exporter": "python",
   "pygments_lexer": "ipython3",
   "version": "3.11.4"
  }
 },
 "nbformat": 4,
 "nbformat_minor": 5
}
