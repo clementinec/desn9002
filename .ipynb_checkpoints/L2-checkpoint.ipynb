{
 "cells": [
  {
   "cell_type": "markdown",
   "id": "665b1ebe",
   "metadata": {
    "slideshow": {
     "slide_type": "slide"
    }
   },
   "source": [
    "### Quick Recap\n",
    "\n",
    "We talked about **Large Language Models** last week.\n",
    "\n",
    "They handle natural language, but are much more capable of doing generalized tasks than NLP models.\n",
    "\n",
    "Tokens are sub-word components and are used \n",
    "\n",
    "The **longer the input+ouput**, the **larger** the demand on the memory of the device, i.e. the **longer** it takes to generate response.\n",
    "\n",
    "Most SOTA LLMs are not democratized (personalizable), OpenAI still has the best model, but this is quickly changing."
   ]
  },
  {
   "cell_type": "markdown",
   "id": "bb0b756a",
   "metadata": {
    "slideshow": {
     "slide_type": "fragment"
    }
   },
   "source": [
    "**This course's hackathon encourages you to leverage LLM to tackle early detection of humanitarian crisis!**"
   ]
  },
  {
   "cell_type": "markdown",
   "id": "5c647023",
   "metadata": {
    "slideshow": {
     "slide_type": "subslide"
    }
   },
   "source": [
    "Once again just a useful tip: try to leverage the two graphical software programming solutions to do fast-prototyping of your solution!"
   ]
  },
  {
   "cell_type": "markdown",
   "id": "ab9914ef",
   "metadata": {
    "slideshow": {
     "slide_type": "slide"
    }
   },
   "source": [
    "## Perspectives on Sustainability\n",
    "\n",
    "October 7th, 2023"
   ]
  },
  {
   "cell_type": "markdown",
   "id": "a09ab880",
   "metadata": {
    "slideshow": {
     "slide_type": "subslide"
    }
   },
   "source": [
    "### Top-Down Sustainability"
   ]
  },
  {
   "cell_type": "markdown",
   "id": "be56f25a",
   "metadata": {
    "slideshow": {
     "slide_type": "slide"
    }
   },
   "source": [
    "### Conceptual Perspective on Sustainability\n",
    "\n",
    "- **Holistic Approach**: Undestand that everything is interconnected\n",
    "- **Triple Bottom Line**: Social, Environmental and Financial Aspects\n",
    "- **Precautionary Principle**: Responsibility of proof lies on advocates of potentially harmful actions.\n",
    "- **Regenerative Design**: AIm to restore or regenerate resources and the environment"
   ]
  },
  {
   "cell_type": "code",
   "execution_count": 17,
   "id": "ce574d0d",
   "metadata": {
    "slideshow": {
     "slide_type": "skip"
    }
   },
   "outputs": [],
   "source": [
    "from IPython.display import Image\n",
    "ul = \"https://www.purdue.edu/diversity-inclusion/resources/equity/equity-resources/images/thinking-in-systems-book-cover-t.jpg\"\n",
    "Thinking_n_Systems=Image(url=ul)\n",
    "tbl=\"https://www.cleanlink.com/resources/editorial/2016/finance-sheet-bottom-line.jpg\"\n",
    "TBL=Image(url=tbl)"
   ]
  },
  {
   "cell_type": "markdown",
   "id": "f117af20",
   "metadata": {
    "slideshow": {
     "slide_type": "slide"
    }
   },
   "source": [
    "### Triple bottom line (TBL, or 3BL)\n",
    "Accounting framework with three parts: social, environmental and economic, 1994.\n",
    "- \"bottom line\" refers to either the  \"profit\" or \"loss\", or\n",
    "    - full cost accounting: bring a broader definition of bottom line into public consciousness\n",
    "    - stakeholders rather than shareholders: anyone who is influenced directly/indirectly by actions of the firm"
   ]
  },
  {
   "cell_type": "code",
   "execution_count": 18,
   "id": "89c5239a",
   "metadata": {
    "slideshow": {
     "slide_type": "fragment"
    }
   },
   "outputs": [
    {
     "data": {
      "text/html": [
       "<img src=\"https://www.cleanlink.com/resources/editorial/2016/finance-sheet-bottom-line.jpg\"/>"
      ],
      "text/plain": [
       "<IPython.core.display.Image object>"
      ]
     },
     "execution_count": 18,
     "metadata": {},
     "output_type": "execute_result"
    }
   ],
   "source": [
    "TBL"
   ]
  },
  {
   "cell_type": "code",
   "execution_count": 9,
   "id": "1d4f1bc7",
   "metadata": {
    "scrolled": false,
    "slideshow": {
     "slide_type": "subslide"
    }
   },
   "outputs": [
    {
     "data": {
      "text/html": [
       "<img src=\"https://www.purdue.edu/diversity-inclusion/resources/equity/equity-resources/images/thinking-in-systems-book-cover-t.jpg\"/>"
      ],
      "text/plain": [
       "<IPython.core.display.Image object>"
      ]
     },
     "execution_count": 9,
     "metadata": {},
     "output_type": "execute_result"
    }
   ],
   "source": [
    "Thinking_n_Systems"
   ]
  },
  {
   "cell_type": "markdown",
   "id": "03825d58",
   "metadata": {
    "slideshow": {
     "slide_type": "fragment"
    }
   },
   "source": [
    "**Thinking in Systems: a Primer, 2008**\n",
    "- Donella H. Meadows \n",
    "- \"A system is an interconnected set of elements that is coherently organized in a way that achieves something\"\n",
    "- Dynamics and interconnected"
   ]
  },
  {
   "cell_type": "markdown",
   "id": "f8147dab",
   "metadata": {
    "slideshow": {
     "slide_type": "slide"
    }
   },
   "source": [
    "### Technical Perspective on Sustainability\n",
    "\n",
    "- **Renewable Energy**: Solar panels, wind turbines, hydroelectric dams\n",
    "- **Green Building**: Energy-efficient design, green roofs, sustainable materials\n",
    "- **Waste Management**: Recycling, composting, anaerobic digesters.\n",
    "- **Water Management**: Efficient irrigation, wastewater treatment, greywater systems.\n",
    "- **Sustainable Agriculture**: Organic farming, agroforesttry, precision agriculture\n",
    "- **Transportation:** Electric vehicles, public transportation, bike-sharing"
   ]
  },
  {
   "cell_type": "markdown",
   "id": "8d1b2363",
   "metadata": {
    "slideshow": {
     "slide_type": "slide"
    }
   },
   "source": [
    "### Bottom-Up Sustainability"
   ]
  },
  {
   "cell_type": "markdown",
   "id": "117131a7",
   "metadata": {
    "slideshow": {
     "slide_type": "subslide"
    }
   },
   "source": [
    "- Advanced Materials\n",
    "- Circular Economy\n",
    "- Smart Cities\n",
    "- Conservation and Biodiversity\n",
    "- Financial Models and Incentives\n",
    "- Challenges and Considerations"
   ]
  },
  {
   "cell_type": "markdown",
   "id": "145e8d38",
   "metadata": {
    "slideshow": {
     "slide_type": "subslide"
    }
   },
   "source": [
    "### Advanced Materials\n",
    "\n",
    "▶ Materials science: Discovery and implementation of stronger, lighter, durable substances.\n",
    "\n",
    "▶ Graphene: Potential applications from water filtration to efficient batteries.\n",
    "\n",
    "▶ Bioplastics: Sustainable alternative to traditional plastics from renewable biomass sources."
   ]
  },
  {
   "cell_type": "markdown",
   "id": "32646d1e",
   "metadata": {
    "slideshow": {
     "slide_type": "subslide"
    }
   },
   "source": [
    "### Circular Economy\n",
    "▶ Reduce, reuse, and recycle vs. the ’take, make, dispose’ model.\n",
    "\n",
    "▶ Digital Platforms: Promote sharing economy, reducing need for ownership.\n",
    "\n",
    "▶ Advanced Recycling Technologies: Breakdown materials for efficient recycling."
   ]
  },
  {
   "cell_type": "markdown",
   "id": "b33f91b4",
   "metadata": {
    "slideshow": {
     "slide_type": "subslide"
    }
   },
   "source": [
    "### Smart Cities\n",
    "\n",
    "▶ Integration of digital technology for enhanced urban services. \n",
    "\n",
    "▶ **Smart Grids**: Systems that respond to energy demand.\n",
    "\n",
    "▶ **Urban Agriculture**: AI and IoT driven vertical farming.\n",
    "\n",
    "▶ **Traffic Management**: Sensors and AI for reduced congestion.\n",
    " "
   ]
  },
  {
   "cell_type": "markdown",
   "id": "84f302de",
   "metadata": {
    "slideshow": {
     "slide_type": "subslide"
    }
   },
   "source": [
    "###  Conservation and Biodiversity\n",
    "▶ Remote Sensing: Monitoring ecosystems with drones and satellites.\n",
    "\n",
    "▶ Genome Sequencing: Understand species genetically.\n",
    "\n",
    "▶ VR and AR: Tools for impactful environmental education."
   ]
  },
  {
   "cell_type": "markdown",
   "id": "d68f83fd",
   "metadata": {
    "slideshow": {
     "slide_type": "subslide"
    }
   },
   "source": [
    "### Financial Models and Incentives\n",
    "▶ **Green Bonds** and Impact Investing: Finance for environmental projects, commonly referred to as ESG (Environmental, social and governance) investing - used to screen investments based on corporate policies and to encourage companies to act responsibly. Employed as a principle\n",
    "\n",
    "▶ **Carbon Trading Platforms**: e.g. Blockchain tracks carbon credits footprints, AI used to identify patterns of false promises in carbon reduction reports."
   ]
  },
  {
   "cell_type": "markdown",
   "id": "42fbff95",
   "metadata": {
    "slideshow": {
     "slide_type": "subslide"
    }
   },
   "source": [
    "### Challenges and Considerations\n",
    "▶ **E-waste**: Increased electronic waste poses hazards.\n",
    "\n",
    "▶ **Energy Consumption**: High energy consumption of digital solutions e.g. miners for crypto-currencies: 1-1 relationship to a single family household energy consumption.\n",
    "\n",
    "▶ **Ethical Concerns**: Considerations on genetic modifications and potential ecosystem impact."
   ]
  },
  {
   "cell_type": "markdown",
   "id": "04ea04e7",
   "metadata": {
    "slideshow": {
     "slide_type": "slide"
    }
   },
   "source": [
    "### Policies that Drives Sustainability"
   ]
  },
  {
   "cell_type": "markdown",
   "id": "8a45441e",
   "metadata": {
    "slideshow": {
     "slide_type": "fragment"
    }
   },
   "source": [
    "1. Setting Clear Targets and Standards\n",
    "    - Define specific measurable sustainability goals\n",
    "    - Give direction and clarity\n",
    "    - e.g. EU's commitment to becoming carbon neutral by 2050\n",
    "2. Providing Financial Incentives\n",
    "    - Governments can use tax breaks, \n",
    "    - subsidies and grants to make sustainable options more economically attractive\n",
    "    - prompting rapid adoption of renewable and electric vehicles\n",
    "3. Regulating and Penalizing Unsustainable Practices\n",
    "    - Policies penalizing polluting activities deter unsustainable business models\n",
    "    - carbon taxes, fines for illegal deforestation\n",
    "and"
   ]
  },
  {
   "cell_type": "markdown",
   "id": "54531a96",
   "metadata": {
    "slideshow": {
     "slide_type": "subslide"
    }
   },
   "source": [
    "4. Promoting Research and Development\n",
    "5. Fostering Education and Awareness\n",
    "6. Encouraging Transparency and Reporting\n",
    "7. Facilitating international cooperation\n",
    "8. Building Infrastructure\n",
    "9. Engaging the Private Sector\n",
    "10. Responsive and Adaptive Policymaking"
   ]
  },
  {
   "cell_type": "markdown",
   "id": "1de8f1c2",
   "metadata": {
    "slideshow": {
     "slide_type": "slide"
    }
   },
   "source": [
    "### Examples of Technical-Driven Sustainable Practices/Concepts"
   ]
  },
  {
   "cell_type": "markdown",
   "id": "721424ae",
   "metadata": {
    "slideshow": {
     "slide_type": "subslide"
    }
   },
   "source": [
    "### Technologies and Innovations that leads to Sustainability\n",
    "1. Renewable Energy TEchnologies:\n",
    "    - Solar\n",
    "    - Wind: Wind turbines, both onshore and offshore\n",
    "    - Hydro & Tidal: Advancements in hydroelectric dams and tidal power (gravity)\n",
    "2. Energy Storage Solutions\n",
    "    - Batteries: Advancements in battery tech\n",
    "    - Hydrogen: Clean fuel for vehicles and energy storage"
   ]
  },
  {
   "cell_type": "code",
   "execution_count": 19,
   "id": "cb042fa7",
   "metadata": {
    "slideshow": {
     "slide_type": "skip"
    }
   },
   "outputs": [],
   "source": [
    "from IPython.display import HTML"
   ]
  },
  {
   "cell_type": "code",
   "execution_count": 26,
   "id": "be1acdc2",
   "metadata": {
    "scrolled": true,
    "slideshow": {
     "slide_type": "skip"
    }
   },
   "outputs": [],
   "source": [
    "NOC=HTML('<iframe width=\"860\" height=\"515\" src=\"https://www.youtube.com/embed/cigc3hvMyWw?si=GcBdodmGLPSpDZ1K&amp;start=2\" title=\"YouTube video player\" frameborder=\"0\" allow=\"accelerometer; autoplay; clipboard-write; encrypted-media; gyroscope; picture-in-picture; web-share\" allowfullscreen></iframe>')"
   ]
  },
  {
   "cell_type": "markdown",
   "id": "38155253",
   "metadata": {
    "slideshow": {
     "slide_type": "subslide"
    }
   },
   "source": [
    "### AT&T NOC, A VERY old Case Study\n",
    "\n",
    "**Examining Technological Disasters.**\n",
    "1. AT&T handles more than 70% of the long-distance traffic of the United States\n",
    "2. Company proud of the robustness of its NOC (video in 1989)\n",
    "3. This is soon to change in 1990."
   ]
  },
  {
   "cell_type": "code",
   "execution_count": 27,
   "id": "81a32e16",
   "metadata": {
    "scrolled": false,
    "slideshow": {
     "slide_type": "subslide"
    }
   },
   "outputs": [
    {
     "data": {
      "text/html": [
       "<iframe width=\"860\" height=\"515\" src=\"https://www.youtube.com/embed/cigc3hvMyWw?si=GcBdodmGLPSpDZ1K&amp;start=2\" title=\"YouTube video player\" frameborder=\"0\" allow=\"accelerometer; autoplay; clipboard-write; encrypted-media; gyroscope; picture-in-picture; web-share\" allowfullscreen></iframe>"
      ],
      "text/plain": [
       "<IPython.core.display.HTML object>"
      ]
     },
     "execution_count": 27,
     "metadata": {},
     "output_type": "execute_result"
    }
   ],
   "source": [
    "NOC"
   ]
  },
  {
   "cell_type": "markdown",
   "id": "c81305ef",
   "metadata": {},
   "source": [
    "1. Jan 15, 1990, a single switch at one of AT&T's 144 switching centers suffered a minor mechanical malfunction\n",
    "2. Programmed reinitialization took 4-5 seconds, but the signal got jammed in the comms channel;\n",
    "3. Surrounding switches got 'infected';\n",
    "4. The fault switches' coming back-online congested the whole network;\n",
    "5. This repeated **iteratively** and resulted in waves of self-induced shut-downs;\n",
    "6. 50 million calls blocked and 9 hours to stablize the system.\n",
    "All from one line of faulty code."
   ]
  },
  {
   "cell_type": "markdown",
   "id": "4a93cddd",
   "metadata": {
    "slideshow": {
     "slide_type": "slide"
    }
   },
   "source": [
    "### What's wrong with this code?"
   ]
  },
  {
   "cell_type": "raw",
   "id": "de897f27",
   "metadata": {
    "slideshow": {
     "slide_type": "fragment"
    }
   },
   "source": [
    "while (ring receive buffer not empty and side buffer not empty)\n",
    "\n",
    "    Initialize pointer to first message in side buffer\n",
    "    or ring receive buffer\n",
    "    \n",
    "    get copy of buffer\n",
    "    switch (message)\n",
    "       case (incoming message):\n",
    "             if (sending switch is out of service) DO\n",
    "                 if (ring write buffer is empty) DO\n",
    "                     send \"in service\" to status map\n",
    "                 else \n",
    "                     break\n",
    "                 END IF\n",
    "        process incoming message, set up pointers to\n",
    "        optional parameters\n",
    "        break\n",
    "        \n",
    "      END SWITCH\n",
    "    do optional parameter work"
   ]
  },
  {
   "cell_type": "markdown",
   "id": "03347128",
   "metadata": {
    "slideshow": {
     "slide_type": "slide"
    }
   },
   "source": [
    "### What does the AT&T new Disaster Recovery Warehouse look like?"
   ]
  },
  {
   "cell_type": "code",
   "execution_count": 31,
   "id": "e80a7b1f",
   "metadata": {
    "slideshow": {
     "slide_type": "subslide"
    }
   },
   "outputs": [
    {
     "data": {
      "text/html": [
       "<iframe width=\"1120\" height=\"630\" src=\"https://www.youtube.com/embed/QgFuNDRQWQg?si=vSmq3SWiR2jUTWrz&amp;start=2\" title=\"YouTube video player\" frameborder=\"0\" allow=\"accelerometer; autoplay; clipboard-write; encrypted-media; gyroscope; picture-in-picture; web-share\" allowfullscreen></iframe>\n"
      ],
      "text/plain": [
       "<IPython.core.display.HTML object>"
      ]
     },
     "metadata": {},
     "output_type": "display_data"
    }
   ],
   "source": [
    "%%HTML\n",
    "<iframe width=\"1120\" height=\"630\" src=\"https://www.youtube.com/embed/QgFuNDRQWQg?si=vSmq3SWiR2jUTWrz&amp;start=2\" title=\"YouTube video player\" frameborder=\"0\" allow=\"accelerometer; autoplay; clipboard-write; encrypted-media; gyroscope; picture-in-picture; web-share\" allowfullscreen></iframe>"
   ]
  },
  {
   "cell_type": "markdown",
   "id": "42b3ca59",
   "metadata": {
    "slideshow": {
     "slide_type": "subslide"
    }
   },
   "source": [
    "### Some other notable technological failures\n",
    "1. Airbus A380 (2006): Software version incompatible btw German and French CATIA\n",
    "2. Millennium Bug (2000): Y2K two-digit year -> 2000 problem, cost: approx. 400Billion GBP\n",
    "3. Explosion of Ariane 5 (1996): Unmanned satellite-launching rocket blew up seconds after take-off: stuffing 64-bit number into 16-bit space.\n",
    "\n",
    "Quiz: We talked about something similar to this last lecture, what was the concept? \n",
    "Hint: Relates to how LLMs run."
   ]
  },
  {
   "cell_type": "markdown",
   "id": "b97817ef",
   "metadata": {
    "slideshow": {
     "slide_type": "slide"
    }
   },
   "source": [
    "### Final Take-Aways\n",
    "\n",
    "1. Sustainability comes in all shapes and flavors beyond implementing technology\n",
    "2. Landing sustianbility requires adequate policy support\n",
    "3. Sustainable thinking empowers systems to be future-proof - flip side of this is technology disaster\n",
    "4. What does htis mean for ou within and beyond this course?"
   ]
  }
 ],
 "metadata": {
  "celltoolbar": "Slideshow",
  "kernelspec": {
   "display_name": "Python 3 (ipykernel)",
   "language": "python",
   "name": "python3"
  },
  "language_info": {
   "codemirror_mode": {
    "name": "ipython",
    "version": 3
   },
   "file_extension": ".py",
   "mimetype": "text/x-python",
   "name": "python",
   "nbconvert_exporter": "python",
   "pygments_lexer": "ipython3",
   "version": "3.11.4"
  }
 },
 "nbformat": 4,
 "nbformat_minor": 5
}
